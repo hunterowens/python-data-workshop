{
 "metadata": {
  "name": "",
  "signature": "sha256:893e8190a01235e442f51e543572278db1452b473babbd73a25dd3603bdd8899"
 },
 "nbformat": 3,
 "nbformat_minor": 0,
 "worksheets": [
  {
   "cells": [
    {
     "cell_type": "code",
     "collapsed": false,
     "input": [
      "import pandas as pd\n",
      "%matplotlib  inline\n",
      "potholes_df = pd.read_csv('https://data.cityofchicago.org/api/views/xpdx-8ivx/rows.csv?accessType=DOWNLOAD')"
     ],
     "language": "python",
     "metadata": {},
     "outputs": [],
     "prompt_number": 8
    },
    {
     "cell_type": "code",
     "collapsed": false,
     "input": [
      "potholes_df['ZIP'].value_counts().describe()"
     ],
     "language": "python",
     "metadata": {},
     "outputs": [
      {
       "metadata": {},
       "output_type": "pyout",
       "prompt_number": 16,
       "text": [
        "count    47.000000\n",
        "mean      8.617021\n",
        "std       9.073500\n",
        "min       1.000000\n",
        "25%       2.000000\n",
        "50%       5.000000\n",
        "75%      11.500000\n",
        "max      37.000000\n",
        "dtype: float64"
       ]
      }
     ],
     "prompt_number": 16
    },
    {
     "cell_type": "code",
     "collapsed": false,
     "input": [
      "potholes_df.to_pickle('./potholes.p')"
     ],
     "language": "python",
     "metadata": {},
     "outputs": [],
     "prompt_number": 18
    },
    {
     "cell_type": "code",
     "collapsed": false,
     "input": [],
     "language": "python",
     "metadata": {},
     "outputs": []
    }
   ],
   "metadata": {}
  }
 ]
}