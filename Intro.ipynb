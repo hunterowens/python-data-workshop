{
 "metadata": {
  "name": ""
 },
 "nbformat": 3,
 "nbformat_minor": 0,
 "worksheets": [
  {
   "cells": [
    {
     "cell_type": "markdown",
     "metadata": {},
     "source": [
      "# Python For Data Analysis\n",
      "\n",
      "* Entire Workshop is online with [github](https://github.com/hunterowens/python-data-workshop)\n",
      "* Other Resources \n",
      "    * Python for Data Analysis by Wes Mckinney (Free in Library for online copy)\n",
      "    * [Pandas Documentation](http://pandas.pydata.org/)"
     ]
    },
    {
     "cell_type": "code",
     "collapsed": false,
     "input": [
      "from pandas import Series, DataFrame\n",
      "import pandas as pd\n",
      "\n",
      "## There are two fundamental Data Structures in Pandas, the series and the dataframe\n",
      "\n",
      "## The Series\n",
      "s = Series([4, 5, 'a', \"some thing\"]) #without labeled index\n",
      "s2 = Series([4,5,6,'a string'],index=['a','b','c','d']) #with labeled index\n",
      "\n",
      "## And the Dataframe\n",
      "data = {'building':['Ryerson','Ryerson','Pick', 'Harper'],\n",
      "              'room':[251,276,532,140],\n",
      "              'capacity':[153,54,15,96]}\n",
      "df = DataFrame(data)"
     ],
     "language": "python",
     "metadata": {},
     "outputs": [],
     "prompt_number": 2
    },
    {
     "cell_type": "code",
     "collapsed": false,
     "input": [
      "s2['a']"
     ],
     "language": "python",
     "metadata": {},
     "outputs": [
      {
       "metadata": {},
       "output_type": "pyout",
       "prompt_number": 12,
       "text": [
        "4"
       ]
      }
     ],
     "prompt_number": 12
    },
    {
     "cell_type": "code",
     "collapsed": false,
     "input": [
      "## You can access the data contained in both\n",
      "\n",
      "print s.index\n",
      "print s2.index ##what should this print?"
     ],
     "language": "python",
     "metadata": {},
     "outputs": [
      {
       "output_type": "stream",
       "stream": "stdout",
       "text": [
        "Int64Index([0, 1, 2, 3], dtype='int64')\n",
        "Index([u'a', u'b', u'c', u'd'], dtype='object')\n"
       ]
      }
     ],
     "prompt_number": 13
    },
    {
     "cell_type": "code",
     "collapsed": false,
     "input": [
      "df[df['capacity'] > 50]"
     ],
     "language": "python",
     "metadata": {},
     "outputs": [
      {
       "html": [
        "<div style=\"max-height:1000px;max-width:1500px;overflow:auto;\">\n",
        "<table border=\"1\" class=\"dataframe\">\n",
        "  <thead>\n",
        "    <tr style=\"text-align: right;\">\n",
        "      <th></th>\n",
        "      <th>building</th>\n",
        "      <th>capacity</th>\n",
        "      <th>room</th>\n",
        "    </tr>\n",
        "  </thead>\n",
        "  <tbody>\n",
        "    <tr>\n",
        "      <th>0</th>\n",
        "      <td> Ryerson</td>\n",
        "      <td> 153</td>\n",
        "      <td> 251</td>\n",
        "    </tr>\n",
        "    <tr>\n",
        "      <th>1</th>\n",
        "      <td> Ryerson</td>\n",
        "      <td>  54</td>\n",
        "      <td> 276</td>\n",
        "    </tr>\n",
        "    <tr>\n",
        "      <th>3</th>\n",
        "      <td>  Harper</td>\n",
        "      <td>  96</td>\n",
        "      <td> 140</td>\n",
        "    </tr>\n",
        "  </tbody>\n",
        "</table>\n",
        "</div>"
       ],
       "metadata": {},
       "output_type": "pyout",
       "prompt_number": 17,
       "text": [
        "  building  capacity  room\n",
        "0  Ryerson       153   251\n",
        "1  Ryerson        54   276\n",
        "3   Harper        96   140"
       ]
      }
     ],
     "prompt_number": 17
    },
    {
     "cell_type": "code",
     "collapsed": false,
     "input": [
      "df.describe()"
     ],
     "language": "python",
     "metadata": {},
     "outputs": [
      {
       "html": [
        "<div style=\"max-height:1000px;max-width:1500px;overflow:auto;\">\n",
        "<table border=\"1\" class=\"dataframe\">\n",
        "  <thead>\n",
        "    <tr style=\"text-align: right;\">\n",
        "      <th></th>\n",
        "      <th>capacity</th>\n",
        "      <th>room</th>\n",
        "    </tr>\n",
        "  </thead>\n",
        "  <tbody>\n",
        "    <tr>\n",
        "      <th>count</th>\n",
        "      <td>   4.000000</td>\n",
        "      <td>   4.000000</td>\n",
        "    </tr>\n",
        "    <tr>\n",
        "      <th>mean</th>\n",
        "      <td>  79.500000</td>\n",
        "      <td> 299.750000</td>\n",
        "    </tr>\n",
        "    <tr>\n",
        "      <th>std</th>\n",
        "      <td>  59.118525</td>\n",
        "      <td> 165.731459</td>\n",
        "    </tr>\n",
        "    <tr>\n",
        "      <th>min</th>\n",
        "      <td>  15.000000</td>\n",
        "      <td> 140.000000</td>\n",
        "    </tr>\n",
        "    <tr>\n",
        "      <th>25%</th>\n",
        "      <td>  44.250000</td>\n",
        "      <td> 223.250000</td>\n",
        "    </tr>\n",
        "    <tr>\n",
        "      <th>50%</th>\n",
        "      <td>  75.000000</td>\n",
        "      <td> 263.500000</td>\n",
        "    </tr>\n",
        "    <tr>\n",
        "      <th>75%</th>\n",
        "      <td> 110.250000</td>\n",
        "      <td> 340.000000</td>\n",
        "    </tr>\n",
        "    <tr>\n",
        "      <th>max</th>\n",
        "      <td> 153.000000</td>\n",
        "      <td> 532.000000</td>\n",
        "    </tr>\n",
        "  </tbody>\n",
        "</table>\n",
        "</div>"
       ],
       "metadata": {},
       "output_type": "pyout",
       "prompt_number": 5,
       "text": [
        "         capacity        room\n",
        "count    4.000000    4.000000\n",
        "mean    79.500000  299.750000\n",
        "std     59.118525  165.731459\n",
        "min     15.000000  140.000000\n",
        "25%     44.250000  223.250000\n",
        "50%     75.000000  263.500000\n",
        "75%    110.250000  340.000000\n",
        "max    153.000000  532.000000"
       ]
      }
     ],
     "prompt_number": 5
    },
    {
     "cell_type": "code",
     "collapsed": false,
     "input": [],
     "language": "python",
     "metadata": {},
     "outputs": []
    }
   ],
   "metadata": {}
  }
 ]
}