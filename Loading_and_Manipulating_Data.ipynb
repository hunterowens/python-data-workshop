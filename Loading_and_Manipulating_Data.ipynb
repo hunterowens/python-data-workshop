{
 "metadata": {
  "name": ""
 },
 "nbformat": 3,
 "nbformat_minor": 0,
 "worksheets": [
  {
   "cells": [
    {
     "cell_type": "markdown",
     "metadata": {},
     "source": [
      "## Loading Data\n",
      "\n",
      "Now, we are going to load in september Bikeshare data from the web and storage. Historical Data is at [https://s3-us-west-2.amazonaws.com/dssg-bikeshare/september_data.csv](https://s3-us-west-2.amazonaws.com/dssg-bikeshare/september_data.csv). Warning, it is ~300mb. "
     ]
    },
    {
     "cell_type": "code",
     "collapsed": false,
     "input": [
      "from pandas import DataFrame\n",
      "import pandas as pd\n",
      "\n",
      "# Load From a CSV\n",
      "september_dataframe = pd.read_csv('./data/september_data.csv',names=['station_id','bikes','spaces','total_docks','timestamp']) ## read CSV assumes header"
     ],
     "language": "python",
     "metadata": {},
     "outputs": [],
     "prompt_number": 5
    },
    {
     "cell_type": "code",
     "collapsed": false,
     "input": [
      "import json\n",
      "import requests\n",
      "\n",
      "# Load from the Web (and Json\n",
      "\n",
      "url = 'http://divvybikes.com/stations/json'\n",
      "resp = requests.get(url)\n",
      "\n",
      "data = json.loads(resp.text)\n",
      "stations_metadata = data['stationBeanList']\n",
      "stations_dataFrame = DataFrame(stations_metadata)\n"
     ],
     "language": "python",
     "metadata": {},
     "outputs": [],
     "prompt_number": 8
    },
    {
     "cell_type": "code",
     "collapsed": false,
     "input": [
      "# A quick cleaning example - Sorting\n",
      "\n",
      "september_dataframe.sort_index(by='timestamp')\n",
      "\n",
      "\n"
     ],
     "language": "python",
     "metadata": {},
     "outputs": [
      {
       "html": [
        "<pre>\n",
        "&lt;class 'pandas.core.frame.DataFrame'&gt;\n",
        "Int64Index: 10091043 entries, 9227155 to 9226774\n",
        "Columns: 5 entries, station_id to timestamp\n",
        "dtypes: int64(4), object(1)\n",
        "</pre>"
       ],
       "metadata": {},
       "output_type": "pyout",
       "prompt_number": 4,
       "text": [
        "<class 'pandas.core.frame.DataFrame'>\n",
        "Int64Index: 10091043 entries, 9227155 to 9226774\n",
        "Columns: 5 entries, station_id to timestamp\n",
        "dtypes: int64(4), object(1)"
       ]
      },
      {
       "html": [
        "<pre>\n",
        "&lt;class 'pandas.core.frame.DataFrame'&gt;\n",
        "Int64Index: 10091043 entries, 9227155 to 9226774\n",
        "Columns: 5 entries, station_id to timestamp\n",
        "dtypes: int64(4), object(1)\n",
        "</pre>"
       ],
       "metadata": {},
       "output_type": "pyout",
       "prompt_number": 9,
       "text": [
        "<class 'pandas.core.frame.DataFrame'>\n",
        "Int64Index: 10091043 entries, 9227155 to 9226774\n",
        "Columns: 5 entries, station_id to timestamp\n",
        "dtypes: int64(4), object(1)"
       ]
      }
     ],
     "prompt_number": 9
    },
    {
     "cell_type": "code",
     "collapsed": false,
     "input": [
      "# Quick Calculation Example - Mean\n",
      "avg_bikes = september_dataframe['bikes'].mean()\n",
      "avg_docks = september_dataframe['spaces'].mean()\n",
      "avg_combo = september_dataframe['total_docks'].mean()\n",
      "\n",
      "print \"The Average Number of Bikes were %s\" % (avg_bikes)\n",
      "print \"The Average Number of Docks were %s\" % (avg_docks)\n",
      "print \"The Average Number of Combination was %s\" % (avg_combo)"
     ],
     "language": "python",
     "metadata": {},
     "outputs": [
      {
       "output_type": "stream",
       "stream": "stdout",
       "text": [
        "The Average Number of Bikes were 9.87960719224\n",
        "The Average Number of Docks were 7.23890563146\n",
        "The Average Number of Combination was 17.1185128237\n"
       ]
      }
     ],
     "prompt_number": 12
    },
    {
     "cell_type": "code",
     "collapsed": false,
     "input": [],
     "language": "python",
     "metadata": {},
     "outputs": [],
     "prompt_number": 10
    }
   ],
   "metadata": {}
  }
 ]
}